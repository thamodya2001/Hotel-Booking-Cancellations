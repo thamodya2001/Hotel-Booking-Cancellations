{
 "cells": [
  {
   "cell_type": "code",
   "execution_count": 24,
   "id": "0a966273-e517-4cad-b780-4bea8c4bef9e",
   "metadata": {},
   "outputs": [
    {
     "name": "stdout",
     "output_type": "stream",
     "text": [
      "First 5 rows of the dataset:\n",
      "          hotel  lead_time arrival_date_month  arrival_date_week_number  \\\n",
      "0    City Hotel         44            January                         1   \n",
      "1    City Hotel         32           February                         9   \n",
      "2    City Hotel         51              April                        15   \n",
      "3  Resort Hotel        145             August                        33   \n",
      "4    City Hotel         12                May                        20   \n",
      "\n",
      "   arrival_date_day_of_month  stays_in_weekend_nights  stays_in_week_nights  \\\n",
      "0                          1                        1                     0   \n",
      "1                         26                        1                     2   \n",
      "2                         12                        0                     1   \n",
      "3                          8                        1                     2   \n",
      "4                          8                        2                     0   \n",
      "\n",
      "   adults  children  babies  ... previous_cancellations  \\\n",
      "0       2         0       0  ...                      0   \n",
      "1       2         0       0  ...                      0   \n",
      "2       2         0       0  ...                      0   \n",
      "3       2         0       0  ...                      0   \n",
      "4       1         0       0  ...                      0   \n",
      "\n",
      "  previous_bookings_not_canceled booking_changes deposit_type  \\\n",
      "0                              0               0   No Deposit   \n",
      "1                              0               0   No Deposit   \n",
      "2                              0               0   No Deposit   \n",
      "3                              0               0   No Deposit   \n",
      "4                              0               0   No Deposit   \n",
      "\n",
      "   days_in_waiting_list    customer_type     adr  required_car_parking_spaces  \\\n",
      "0                     0  Transient-Party   65.00                            0   \n",
      "1                     0        Transient   62.00                            0   \n",
      "2                     0        Transient  108.00                            0   \n",
      "3                     0        Transient  137.83                            0   \n",
      "4                     0        Transient  105.00                            0   \n",
      "\n",
      "  total_of_special_requests  room_mismatch  \n",
      "0                         0              0  \n",
      "1                         2              1  \n",
      "2                         0              0  \n",
      "3                         0              0  \n",
      "4                         1              0  \n",
      "\n",
      "[5 rows x 25 columns]\n"
     ]
    }
   ],
   "source": [
    "import pandas as pd\n",
    "\n",
    "# Using raw string with correct filename\n",
    "file_path = r'C:\\Users\\Lakmini\\Desktop\\ML product\\booking cancellation\\X_train.xlsx'\n",
    "X_train = pd.read_excel(file_path)\n",
    "\n",
    "# Display the first few rows\n",
    "print(\"First 5 rows of the dataset:\")\n",
    "print(X_train.head())\n",
    "\n"
   ]
  },
  {
   "cell_type": "code",
   "execution_count": 29,
   "id": "104dae7e-08b6-4c4d-96c6-c7a500da4807",
   "metadata": {},
   "outputs": [
    {
     "name": "stdout",
     "output_type": "stream",
     "text": [
      "   is_canceled\n",
      "0            0\n",
      "1            0\n",
      "2            0\n",
      "3            0\n",
      "4            0\n"
     ]
    }
   ],
   "source": [
    "file_path = r'C:\\Users\\Lakmini\\Desktop\\ML product\\booking cancellation\\y_train.xlsx'\n",
    "y_train = pd.read_excel(file_path)\n",
    "print(y_train.head())"
   ]
  },
  {
   "cell_type": "code",
   "execution_count": 30,
   "id": "dd63fc01-5415-4538-b45f-9639ddac819d",
   "metadata": {},
   "outputs": [
    {
     "name": "stdout",
     "output_type": "stream",
     "text": [
      "\n",
      "Dataframe info:\n",
      "<class 'pandas.core.frame.DataFrame'>\n",
      "RangeIndex: 95189 entries, 0 to 95188\n",
      "Data columns (total 25 columns):\n",
      " #   Column                          Non-Null Count  Dtype  \n",
      "---  ------                          --------------  -----  \n",
      " 0   hotel                           95189 non-null  object \n",
      " 1   lead_time                       95189 non-null  int64  \n",
      " 2   arrival_date_month              95189 non-null  object \n",
      " 3   arrival_date_week_number        95189 non-null  int64  \n",
      " 4   arrival_date_day_of_month       95189 non-null  int64  \n",
      " 5   stays_in_weekend_nights         95189 non-null  int64  \n",
      " 6   stays_in_week_nights            95189 non-null  int64  \n",
      " 7   adults                          95189 non-null  int64  \n",
      " 8   children                        95189 non-null  int64  \n",
      " 9   babies                          95189 non-null  int64  \n",
      " 10  meal                            95189 non-null  object \n",
      " 11  country                         95189 non-null  object \n",
      " 12  market_segment                  95189 non-null  object \n",
      " 13  distribution_channel            95189 non-null  object \n",
      " 14  is_repeated_guest               95189 non-null  int64  \n",
      " 15  previous_cancellations          95189 non-null  int64  \n",
      " 16  previous_bookings_not_canceled  95189 non-null  int64  \n",
      " 17  booking_changes                 95189 non-null  int64  \n",
      " 18  deposit_type                    95189 non-null  object \n",
      " 19  days_in_waiting_list            95189 non-null  int64  \n",
      " 20  customer_type                   95189 non-null  object \n",
      " 21  adr                             95189 non-null  float64\n",
      " 22  required_car_parking_spaces     95189 non-null  int64  \n",
      " 23  total_of_special_requests       95189 non-null  int64  \n",
      " 24  room_mismatch                   95189 non-null  int64  \n",
      "dtypes: float64(1), int64(16), object(8)\n",
      "memory usage: 18.2+ MB\n",
      "None\n"
     ]
    }
   ],
   "source": [
    "# Display basic info about the dataframe\n",
    "print(\"\\nDataframe info:\")\n",
    "print(X_train.info())\n",
    "\n"
   ]
  },
  {
   "cell_type": "code",
   "execution_count": 21,
   "id": "4ca27d3e-629c-417b-a575-d5961a0851d4",
   "metadata": {},
   "outputs": [
    {
     "name": "stdout",
     "output_type": "stream",
     "text": [
      "\n",
      "Column names:\n",
      "['hotel', 'lead_time', 'arrival_date_month', 'arrival_date_week_number', 'arrival_date_day_of_month', 'stays_in_weekend_nights', 'stays_in_week_nights', 'adults', 'children', 'babies', 'meal', 'country', 'market_segment', 'distribution_channel', 'is_repeated_guest', 'previous_cancellations', 'previous_bookings_not_canceled', 'booking_changes', 'deposit_type', 'days_in_waiting_list', 'customer_type', 'adr', 'required_car_parking_spaces', 'total_of_special_requests', 'room_mismatch']\n"
     ]
    }
   ],
   "source": [
    "# Display column names\n",
    "print(\"\\nColumn names:\")\n",
    "print(X_train.columns.tolist())"
   ]
  },
  {
   "cell_type": "code",
   "execution_count": 41,
   "id": "81ad1e6a-44d4-4900-b2a3-1b6935fe0891",
   "metadata": {},
   "outputs": [
    {
     "data": {
      "image/png": "[encoded data removed]",
      "text/plain": [
       "<Figure size 600x400 with 1 Axes>"
      ]
     },
     "metadata": {},
     "output_type": "display_data"
    }
   ],
   "source": [
    "data= y_train['is_canceled']\n",
    "plt.figure(figsize=(6, 4))\n",
    "counts = [sum(data == 0), sum(data == 1)]\n",
    "percentages = [x/len(data)*100 for x in counts]\n",
    "\n",
    "bars = plt.bar(['0', '1'], percentages, color=['salmon', 'lightblue'])\n",
    "\n",
    "# Add percentage labels\n",
    "for bar in bars:\n",
    "    height = bar.get_height()\n",
    "    plt.text(bar.get_x() + bar.get_width()/2., height,\n",
    "             f'{height:.1f}%',\n",
    "             ha='center', va='bottom')\n",
    "\n",
    "plt.title('Percentage Distribution of Booking Cancellations')\n",
    "plt.ylabel('Percentage (%)')\n",
    "plt.ylim(0, 100)\n",
    "plt.show()"
   ]
  },
  {
   "cell_type": "code",
   "execution_count": 40,
   "id": "b6321787-840b-4058-bc27-21b6b39fc48c",
   "metadata": {},
   "outputs": [
    {
     "ename": "KeyError",
     "evalue": "'Category'",
     "output_type": "error",
     "traceback": [
      "\u001b[1;31m---------------------------------------------------------------------------\u001b[0m",
      "\u001b[1;31mKeyError\u001b[0m                                  Traceback (most recent call last)",
      "Cell \u001b[1;32mIn[40], line 3\u001b[0m\n\u001b[0;32m      1\u001b[0m \u001b[38;5;66;03m# Calculate percentages\u001b[39;00m\n\u001b[0;32m      2\u001b[0m country\u001b[38;5;241m=\u001b[39mX_train[\u001b[38;5;124m'\u001b[39m\u001b[38;5;124mcountry\u001b[39m\u001b[38;5;124m'\u001b[39m]\n\u001b[1;32m----> 3\u001b[0m counts \u001b[38;5;241m=\u001b[39m country[\u001b[38;5;124m'\u001b[39m\u001b[38;5;124mCategory\u001b[39m\u001b[38;5;124m'\u001b[39m]\u001b[38;5;241m.\u001b[39mvalue_counts()\n\u001b[0;32m      4\u001b[0m percentages \u001b[38;5;241m=\u001b[39m (counts \u001b[38;5;241m/\u001b[39m counts\u001b[38;5;241m.\u001b[39msum()) \u001b[38;5;241m*\u001b[39m \u001b[38;5;241m100\u001b[39m\n\u001b[0;32m      6\u001b[0m \u001b[38;5;66;03m# Create plot\u001b[39;00m\n",
      "File \u001b[1;32mC:\\ProgramData\\anaconda3\\Lib\\site-packages\\pandas\\core\\series.py:1121\u001b[0m, in \u001b[0;36mSeries.__getitem__\u001b[1;34m(self, key)\u001b[0m\n\u001b[0;32m   1118\u001b[0m     \u001b[38;5;28;01mreturn\u001b[39;00m \u001b[38;5;28mself\u001b[39m\u001b[38;5;241m.\u001b[39m_values[key]\n\u001b[0;32m   1120\u001b[0m \u001b[38;5;28;01melif\u001b[39;00m key_is_scalar:\n\u001b[1;32m-> 1121\u001b[0m     \u001b[38;5;28;01mreturn\u001b[39;00m \u001b[38;5;28mself\u001b[39m\u001b[38;5;241m.\u001b[39m_get_value(key)\n\u001b[0;32m   1123\u001b[0m \u001b[38;5;66;03m# Convert generator to list before going through hashable part\u001b[39;00m\n\u001b[0;32m   1124\u001b[0m \u001b[38;5;66;03m# (We will iterate through the generator there to check for slices)\u001b[39;00m\n\u001b[0;32m   1125\u001b[0m \u001b[38;5;28;01mif\u001b[39;00m is_iterator(key):\n",
      "File \u001b[1;32mC:\\ProgramData\\anaconda3\\Lib\\site-packages\\pandas\\core\\series.py:1237\u001b[0m, in \u001b[0;36mSeries._get_value\u001b[1;34m(self, label, takeable)\u001b[0m\n\u001b[0;32m   1234\u001b[0m     \u001b[38;5;28;01mreturn\u001b[39;00m \u001b[38;5;28mself\u001b[39m\u001b[38;5;241m.\u001b[39m_values[label]\n\u001b[0;32m   1236\u001b[0m \u001b[38;5;66;03m# Similar to Index.get_value, but we do not fall back to positional\u001b[39;00m\n\u001b[1;32m-> 1237\u001b[0m loc \u001b[38;5;241m=\u001b[39m \u001b[38;5;28mself\u001b[39m\u001b[38;5;241m.\u001b[39mindex\u001b[38;5;241m.\u001b[39mget_loc(label)\n\u001b[0;32m   1239\u001b[0m \u001b[38;5;28;01mif\u001b[39;00m is_integer(loc):\n\u001b[0;32m   1240\u001b[0m     \u001b[38;5;28;01mreturn\u001b[39;00m \u001b[38;5;28mself\u001b[39m\u001b[38;5;241m.\u001b[39m_values[loc]\n",
      "File \u001b[1;32mC:\\ProgramData\\anaconda3\\Lib\\site-packages\\pandas\\core\\indexes\\range.py:417\u001b[0m, in \u001b[0;36mRangeIndex.get_loc\u001b[1;34m(self, key)\u001b[0m\n\u001b[0;32m    415\u001b[0m         \u001b[38;5;28;01mraise\u001b[39;00m \u001b[38;5;167;01mKeyError\u001b[39;00m(key) \u001b[38;5;28;01mfrom\u001b[39;00m \u001b[38;5;21;01merr\u001b[39;00m\n\u001b[0;32m    416\u001b[0m \u001b[38;5;28;01mif\u001b[39;00m \u001b[38;5;28misinstance\u001b[39m(key, Hashable):\n\u001b[1;32m--> 417\u001b[0m     \u001b[38;5;28;01mraise\u001b[39;00m \u001b[38;5;167;01mKeyError\u001b[39;00m(key)\n\u001b[0;32m    418\u001b[0m \u001b[38;5;28mself\u001b[39m\u001b[38;5;241m.\u001b[39m_check_indexing_error(key)\n\u001b[0;32m    419\u001b[0m \u001b[38;5;28;01mraise\u001b[39;00m \u001b[38;5;167;01mKeyError\u001b[39;00m(key)\n",
      "\u001b[1;31mKeyError\u001b[0m: 'Category'"
     ]
    }
   ],
   "source": [
    "# Calculate percentages\n",
    "country=X_train['country']\n",
    "counts = country['Category'].value_counts()\n",
    "percentages = (counts / counts.sum()) * 100\n",
    "\n",
    "# Create plot\n",
    "ax = percentages.plot(kind='bar', figsize=(8, 6), color='skyblue')\n",
    "\n",
    "# Add percentage labels\n",
    "for p in ax.patches:\n",
    "    ax.annotate(f'{p.get_height():.1f}%', \n",
    "                (p.get_x() + p.get_width() / 2., p.get_height()), \n",
    "                ha='center', va='center', \n",
    "                xytext=(0, 10), \n",
    "                textcoords='offset points')\n",
    "\n",
    "plt.title('Category Distribution')\n",
    "plt.ylabel('Percentage (%)')\n",
    "plt.xticks(rotation=0)\n",
    "plt.show()"
   ]
  },
  {
   "cell_type": "code",
   "execution_count": null,
   "id": "445d7c0d-92ef-4fa4-a050-01c2a19b620f",
   "metadata": {},
   "outputs": [],
   "source": []
  }
 ],
 "metadata": {
  "kernelspec": {
   "display_name": "Python 3 (ipykernel)",
   "language": "python",
   "name": "python3"
  },
  "language_info": {
   "codemirror_mode": {
    "name": "ipython",
    "version": 3
   },
   "file_extension": ".py",
   "mimetype": "text/x-python",
   "name": "python",
   "nbconvert_exporter": "python",
   "pygments_lexer": "ipython3",
   "version": "3.12.7"
  }
 },
 "nbformat": 4,
 "nbformat_minor": 5
}
